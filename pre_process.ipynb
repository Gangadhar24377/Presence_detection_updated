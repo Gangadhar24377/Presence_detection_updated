{
 "cells": [
  {
   "cell_type": "code",
   "execution_count": 1,
   "metadata": {},
   "outputs": [],
   "source": [
    "import pandas as pd"
   ]
  },
  {
   "cell_type": "code",
   "execution_count": 2,
   "metadata": {},
   "outputs": [],
   "source": [
    "# Load the CSV file\n",
    "file_path = \"C:/Users/Admin/Documents/WIFI_DENSPOSE/wifi.csv\"  # Replace with the path to your CSV file\n",
    "df = pd.read_csv(file_path)"
   ]
  },
  {
   "cell_type": "code",
   "execution_count": 3,
   "metadata": {},
   "outputs": [
    {
     "name": "stdout",
     "output_type": "stream",
     "text": [
      "Data before cleaning:\n",
      "       Type    id                mac  rssi  rate  sig_mode  mcs  bandwidth  \\\n",
      "0  CSI_DATA  7001  a6:9e:ca:c1:0d:af   -51    11         1    7          0   \n",
      "1  CSI_DATA  7002  a6:9e:ca:c1:0d:af   -51    11         1    7          0   \n",
      "2  CSI_DATA  7003  a6:9e:ca:c1:0d:af   -51    11         1    7          0   \n",
      "3  CSI_DATA  7004  a6:9e:ca:c1:0d:af   -51    11         1    7          0   \n",
      "4  CSI_DATA  7005  a6:9e:ca:c1:0d:af   -51    11         1    7          0   \n",
      "\n",
      "   smoothing  not_sounding  ...  ampdu_cnt  channel  secondary_channel  \\\n",
      "0          1             1  ...          0        6                  0   \n",
      "1          1             1  ...          0        6                  0   \n",
      "2          1             1  ...          0        6                  0   \n",
      "3          1             1  ...          0        6                  0   \n",
      "4          1             1  ...          0        6                  0   \n",
      "\n",
      "   local_time  ant  sig_len  rx_state  len  first_word              data  \n",
      "0   152147309    0       83         0    5           0  [0,0,-10,-9,-12]  \n",
      "1   152152362    0       83         0    5           0   [0,0,-10,9,-11]  \n",
      "2   152157073    0       83         0    5           0  [0,0,-8,-11,-10]  \n",
      "3   152165813    0       83         0    5           0      [0,0,1,12,1]  \n",
      "4   152171645    0       83         0    5           0   [0,0,-8,-11,-9]  \n",
      "\n",
      "[5 rows x 25 columns]\n"
     ]
    }
   ],
   "source": [
    "# Show first 5 rows before cleaning\n",
    "print(\"Data before cleaning:\")\n",
    "print(df.head())"
   ]
  },
  {
   "cell_type": "code",
   "execution_count": 4,
   "metadata": {},
   "outputs": [],
   "source": [
    "# Drop unnecessary columns (modify as per your requirement)\n",
    "columns_to_keep = ['rssi', 'rate', 'noise_floor', 'data', 'local_time', 'channel']\n",
    "df_cleaned = df[columns_to_keep]"
   ]
  },
  {
   "cell_type": "code",
   "execution_count": 5,
   "metadata": {},
   "outputs": [
    {
     "name": "stderr",
     "output_type": "stream",
     "text": [
      "C:\\Users\\Admin\\AppData\\Local\\Temp\\ipykernel_17004\\3726516209.py:2: SettingWithCopyWarning: \n",
      "A value is trying to be set on a copy of a slice from a DataFrame.\n",
      "Try using .loc[row_indexer,col_indexer] = value instead\n",
      "\n",
      "See the caveats in the documentation: https://pandas.pydata.org/pandas-docs/stable/user_guide/indexing.html#returning-a-view-versus-a-copy\n",
      "  df_cleaned['rssi'] = df_cleaned['rssi'].fillna(df_cleaned['rssi'].mean())\n",
      "C:\\Users\\Admin\\AppData\\Local\\Temp\\ipykernel_17004\\3726516209.py:3: SettingWithCopyWarning: \n",
      "A value is trying to be set on a copy of a slice from a DataFrame.\n",
      "Try using .loc[row_indexer,col_indexer] = value instead\n",
      "\n",
      "See the caveats in the documentation: https://pandas.pydata.org/pandas-docs/stable/user_guide/indexing.html#returning-a-view-versus-a-copy\n",
      "  df_cleaned['rate'] = df_cleaned['rate'].fillna(df_cleaned['rate'].mean())\n",
      "C:\\Users\\Admin\\AppData\\Local\\Temp\\ipykernel_17004\\3726516209.py:4: SettingWithCopyWarning: \n",
      "A value is trying to be set on a copy of a slice from a DataFrame.\n",
      "Try using .loc[row_indexer,col_indexer] = value instead\n",
      "\n",
      "See the caveats in the documentation: https://pandas.pydata.org/pandas-docs/stable/user_guide/indexing.html#returning-a-view-versus-a-copy\n",
      "  df_cleaned['noise_floor'] = df_cleaned['noise_floor'].fillna(df_cleaned['noise_floor'].mean())\n"
     ]
    }
   ],
   "source": [
    "# Filling missing values with mean or median for numerical columns\n",
    "df_cleaned['rssi'] = df_cleaned['rssi'].fillna(df_cleaned['rssi'].mean())\n",
    "df_cleaned['rate'] = df_cleaned['rate'].fillna(df_cleaned['rate'].mean())\n",
    "df_cleaned['noise_floor'] = df_cleaned['noise_floor'].fillna(df_cleaned['noise_floor'].mean())"
   ]
  },
  {
   "cell_type": "code",
   "execution_count": 6,
   "metadata": {},
   "outputs": [
    {
     "name": "stderr",
     "output_type": "stream",
     "text": [
      "C:\\Users\\Admin\\AppData\\Local\\Temp\\ipykernel_17004\\803306053.py:2: SettingWithCopyWarning: \n",
      "A value is trying to be set on a copy of a slice from a DataFrame.\n",
      "Try using .loc[row_indexer,col_indexer] = value instead\n",
      "\n",
      "See the caveats in the documentation: https://pandas.pydata.org/pandas-docs/stable/user_guide/indexing.html#returning-a-view-versus-a-copy\n",
      "  df_cleaned['data'] = df_cleaned['data'].apply(lambda x: eval(x) if isinstance(x, str) else x)\n"
     ]
    }
   ],
   "source": [
    "# Optional: Convert 'data' from string representation to actual lists (if needed)\n",
    "df_cleaned['data'] = df_cleaned['data'].apply(lambda x: eval(x) if isinstance(x, str) else x)\n",
    "    "
   ]
  },
  {
   "cell_type": "code",
   "execution_count": 7,
   "metadata": {},
   "outputs": [],
   "source": [
    "# Remove rows with RSSI values outside a reasonable range (-100 to 0 dBm)\n",
    "df_cleaned = df_cleaned[(df_cleaned['rssi'] >= -100) & (df_cleaned['rssi'] <= 0)]"
   ]
  },
  {
   "cell_type": "code",
   "execution_count": 8,
   "metadata": {},
   "outputs": [
    {
     "name": "stdout",
     "output_type": "stream",
     "text": [
      "\n",
      "Data after cleaning:\n",
      "   rssi  rate  noise_floor                  data  local_time  channel\n",
      "0   -51    11          -95  [0, 0, -10, -9, -12]   152147309        6\n",
      "1   -51    11          -95   [0, 0, -10, 9, -11]   152152362        6\n",
      "2   -51    11          -95  [0, 0, -8, -11, -10]   152157073        6\n",
      "3   -51    11          -95      [0, 0, 1, 12, 1]   152165813        6\n",
      "4   -51    11          -95   [0, 0, -8, -11, -9]   152171645        6\n"
     ]
    }
   ],
   "source": [
    "# Show first 5 rows after cleaning\n",
    "print(\"\\nData after cleaning:\")\n",
    "print(df_cleaned.head())"
   ]
  },
  {
   "cell_type": "code",
   "execution_count": 9,
   "metadata": {},
   "outputs": [
    {
     "name": "stdout",
     "output_type": "stream",
     "text": [
      "Data cleaning complete. Cleaned data saved to: cleaned_data.csv\n"
     ]
    }
   ],
   "source": [
    "# Save the cleaned data to a new CSV file\n",
    "output_file_path = \"cleaned_data.csv\"\n",
    "df_cleaned.to_csv(output_file_path, index=False)\n",
    "\n",
    "print(\"Data cleaning complete. Cleaned data saved to:\", output_file_path)"
   ]
  }
 ],
 "metadata": {
  "kernelspec": {
   "display_name": "Python 3",
   "language": "python",
   "name": "python3"
  },
  "language_info": {
   "codemirror_mode": {
    "name": "ipython",
    "version": 3
   },
   "file_extension": ".py",
   "mimetype": "text/x-python",
   "name": "python",
   "nbconvert_exporter": "python",
   "pygments_lexer": "ipython3",
   "version": "3.11.2"
  }
 },
 "nbformat": 4,
 "nbformat_minor": 2
}
