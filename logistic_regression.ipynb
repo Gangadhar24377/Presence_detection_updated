{
 "cells": [
  {
   "cell_type": "markdown",
   "metadata": {},
   "source": [
    "### Pre-Processing"
   ]
  },
  {
   "cell_type": "code",
   "execution_count": 24,
   "metadata": {},
   "outputs": [],
   "source": [
    "import pandas as pd\n",
    "from sklearn.model_selection import train_test_split\n",
    "from sklearn.linear_model import LogisticRegression\n",
    "from sklearn.metrics import accuracy_score, confusion_matrix"
   ]
  },
  {
   "cell_type": "code",
   "execution_count": 25,
   "metadata": {},
   "outputs": [],
   "source": [
    "\n",
    "# Load the CSV file\n",
    "file_path = \"cleaned_data.csv\"  # Replace with the path to your CSV file\n",
    "df = pd.read_csv(file_path)"
   ]
  },
  {
   "cell_type": "code",
   "execution_count": 26,
   "metadata": {},
   "outputs": [],
   "source": [
    "# Data Preprocessing\n",
    "# Keep relevant columns for human presence detection (adjust as needed)\n",
    "columns_to_keep = ['rssi', 'rate', 'noise_floor', 'data', 'local_time', 'channel']\n",
    "df_cleaned = df[columns_to_keep]"
   ]
  },
  {
   "cell_type": "code",
   "execution_count": 27,
   "metadata": {},
   "outputs": [],
   "source": [
    "# Handling missing values (if any)\n",
    "df_cleaned['rssi'] = df_cleaned['rssi'].fillna(df_cleaned['rssi'].mean())\n",
    "df_cleaned['rate'] = df_cleaned['rate'].fillna(df_cleaned['rate'].mean())\n",
    "df_cleaned['noise_floor'] = df_cleaned['noise_floor'].fillna(df_cleaned['noise_floor'].mean())"
   ]
  },
  {
   "cell_type": "code",
   "execution_count": 5,
   "metadata": {},
   "outputs": [],
   "source": [
    "# Feature engineering: Convert 'data' column to usable format (e.g., take the mean of the list)\n",
    "df_cleaned['data_mean'] = df_cleaned['data'].apply(lambda x: eval(x) if isinstance(x, str) else x)\n",
    "df_cleaned['data_mean'] = df_cleaned['data_mean'].apply(lambda x: sum(x)/len(x) if x else 0)"
   ]
  },
  {
   "cell_type": "code",
   "execution_count": 28,
   "metadata": {},
   "outputs": [],
   "source": [
    "# Drop the original 'data' column after extracting the feature\n",
    "df_cleaned = df_cleaned.drop(columns=['data'])"
   ]
  },
  {
   "cell_type": "code",
   "execution_count": 29,
   "metadata": {},
   "outputs": [],
   "source": [
    "# For simplicity, let's create a binary target (human_present)\n",
    "df_cleaned['human_present'] = (df_cleaned['rssi'] > -70).astype(int)  # Example threshold for presence"
   ]
  },
  {
   "cell_type": "code",
   "execution_count": 16,
   "metadata": {},
   "outputs": [],
   "source": [
    "# For simplicity, let's create a binary target (human_present), you need labeled data for this\n",
    "# Assuming presence of human is detected based on some threshold (e.g., signal strength, noise level)\n",
    "# You may need labeled data for this task; here we're creating an example target\n",
    "df_cleaned['human_present'] = (df_cleaned['rssi'] > -70).astype(int)  # Example threshold for presence\n"
   ]
  },
  {
   "cell_type": "code",
   "execution_count": 30,
   "metadata": {},
   "outputs": [
    {
     "name": "stdout",
     "output_type": "stream",
     "text": [
      "Class distribution before balancing:\n",
      "human_present\n",
      "1    4594\n",
      "Name: count, dtype: int64\n"
     ]
    }
   ],
   "source": [
    "# Class distribution before handling imbalance\n",
    "print(\"Class distribution before balancing:\")\n",
    "print(df_cleaned['human_present'].value_counts())"
   ]
  },
  {
   "cell_type": "code",
   "execution_count": 33,
   "metadata": {},
   "outputs": [
    {
     "name": "stdout",
     "output_type": "stream",
     "text": [
      "Not enough samples to perform train-test split.\n"
     ]
    }
   ],
   "source": [
    "# Check if the minority class has enough samples\n",
    "if df_cleaned['human_present'].value_counts().min() < 1:\n",
    "    print(\"Not enough samples in the dataset to proceed.\")\n",
    "else:\n",
    "    # Under-sampling the majority class\n",
    "    df_majority = df_cleaned[df_cleaned['human_present'] == 1]\n",
    "    df_minority = df_cleaned[df_cleaned['human_present'] == 0]\n",
    "\n",
    "    # Randomly select the same number of samples from the majority class as in the minority class\n",
    "    df_majority_downsampled = df_majority.sample(n=len(df_minority), random_state=42)\n",
    "\n",
    "    # Combine minority class with downsampled majority class\n",
    "    df_balanced = pd.concat([df_majority_downsampled, df_minority])\n",
    "\n",
    "    # Shuffle the dataset\n",
    "    df_balanced = df_balanced.sample(frac=1, random_state=42).reset_index(drop=True)\n",
    "\n",
    "    # Re-split the balanced data into features and target variable\n",
    "    X_balanced = df_balanced.drop(columns=['human_present'])\n",
    "    y_balanced = df_balanced['human_present']\n",
    "\n",
    "    # Train-test split\n",
    "    if len(X_balanced) > 1:  # Ensure there are enough samples to split\n",
    "        X_train, X_test, y_train, y_test = train_test_split(X_balanced, y_balanced, test_size=0.2, random_state=42)\n",
    "\n",
    "        # Train the Logistic Regression model\n",
    "        model = LogisticRegression()\n",
    "        model.fit(X_train, y_train)\n",
    "\n",
    "        # Make predictions on the test set\n",
    "        y_pred = model.predict(X_test)\n",
    "\n",
    "        # Evaluate the model\n",
    "        accuracy = accuracy_score(y_test, y_pred)\n",
    "        conf_matrix = confusion_matrix(y_test, y_pred)\n",
    "\n",
    "        print(f\"Model Accuracy: {accuracy * 100:.2f}%\")\n",
    "        print(\"Confusion Matrix:\")\n",
    "        print(conf_matrix)\n",
    "    else:\n",
    "        print(\"Not enough samples to perform train-test split.\")"
   ]
  }
 ],
 "metadata": {
  "kernelspec": {
   "display_name": "Python 3",
   "language": "python",
   "name": "python3"
  },
  "language_info": {
   "codemirror_mode": {
    "name": "ipython",
    "version": 3
   },
   "file_extension": ".py",
   "mimetype": "text/x-python",
   "name": "python",
   "nbconvert_exporter": "python",
   "pygments_lexer": "ipython3",
   "version": "3.11.2"
  }
 },
 "nbformat": 4,
 "nbformat_minor": 2
}
